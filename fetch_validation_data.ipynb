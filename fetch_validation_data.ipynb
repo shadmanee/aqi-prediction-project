{
 "cells": [
  {
   "cell_type": "code",
   "execution_count": 1,
   "id": "b01e6f78",
   "metadata": {},
   "outputs": [],
   "source": [
    "import openmeteo_requests, requests_cache\n",
    "import pandas as pd\n",
    "from retry_requests import retry"
   ]
  },
  {
   "cell_type": "code",
   "execution_count": 8,
   "id": "e39f6bd4",
   "metadata": {},
   "outputs": [],
   "source": [
    "# parameters: lat, lon, variables to include in fetched data, date range (June 2023 - June 2025)\n",
    "params_dhaka = {\n",
    "\t\"latitude\": 23.76,\n",
    "\t\"longitude\": 90.38,\n",
    "\t\"city\": \"dhaka\",\n",
    "\t\"hourly\": [\"pm10\", \"pm2_5\", \"carbon_monoxide\", \"nitrogen_dioxide\", \"sulphur_dioxide\", \"ozone\", \"uv_index_clear_sky\", \"uv_index\", \"dust\", \"aerosol_optical_depth\", \"us_aqi\"],\n",
    "\t\"domains\": \"cams_global\",\n",
    "\t\"start_date\": \"2025-06-30\",\n",
    "\t\"end_date\": \"2025-08-20\"\n",
    "}\n",
    "\n",
    "params_chittagong = {\n",
    "\t\"latitude\": 22.33,\n",
    "\t\"longitude\": 91.83,\n",
    "\t\"city\": \"chittagong\",\n",
    "\t\"hourly\": [\"pm10\", \"pm2_5\", \"carbon_monoxide\", \"nitrogen_dioxide\", \"sulphur_dioxide\", \"ozone\", \"uv_index_clear_sky\", \"uv_index\", \"dust\", \"aerosol_optical_depth\", \"us_aqi\"],\n",
    "\t\"domains\": \"cams_global\",\n",
    "\t\"start_date\": \"2025-06-30\",\n",
    "\t\"end_date\": \"2025-08-20\"\n",
    "}\n",
    "\n",
    "params_khulna = {\n",
    "\t\"latitude\": 22.81,\n",
    "\t\"longitude\": 89.55,\n",
    "\t\"city\": \"khulna\",\n",
    "\t\"hourly\": [\"pm10\", \"pm2_5\", \"carbon_monoxide\", \"nitrogen_dioxide\", \"sulphur_dioxide\", \"ozone\", \"uv_index_clear_sky\", \"uv_index\", \"dust\", \"aerosol_optical_depth\", \"us_aqi\"],\n",
    "\t\"domains\": \"cams_global\",\n",
    "\t\"start_date\": \"2025-06-30\",\n",
    "\t\"end_date\": \"2025-08-20\"\n",
    "}"
   ]
  },
  {
   "cell_type": "code",
   "execution_count": 9,
   "id": "e22e2d98",
   "metadata": {},
   "outputs": [],
   "source": [
    "param_list = [params_dhaka, params_chittagong, params_khulna]"
   ]
  },
  {
   "cell_type": "code",
   "execution_count": 10,
   "id": "e9d9d292",
   "metadata": {},
   "outputs": [],
   "source": [
    "# Setup the Open-Meteo API client with cache and retry on error\n",
    "cache_session = requests_cache.CachedSession('.cache', expire_after = 3600)\n",
    "retry_session = retry(cache_session, retries = 5, backoff_factor = 0.2)\n",
    "openmeteo = openmeteo_requests.Client(session = retry_session)\n",
    "url = \"https://air-quality-api.open-meteo.com/v1/air-quality\""
   ]
  },
  {
   "cell_type": "code",
   "execution_count": 11,
   "id": "b0d45bfb",
   "metadata": {},
   "outputs": [],
   "source": [
    "dataframes = []"
   ]
  },
  {
   "cell_type": "code",
   "execution_count": 12,
   "id": "b25793df",
   "metadata": {},
   "outputs": [
    {
     "name": "stdout",
     "output_type": "stream",
     "text": [
      "Coordinates 23.800003051757812°N 90.39999389648438°E\n",
      "Elevation 13.0 m asl\n",
      "Timezone NoneNone\n",
      "Timezone difference to GMT+0 0 s\n",
      "Coordinates 22.300003051757812°N 91.80001831054688°E\n",
      "Elevation 10.0 m asl\n",
      "Timezone NoneNone\n",
      "Timezone difference to GMT+0 0 s\n",
      "Coordinates 22.800003051757812°N 89.5°E\n",
      "Elevation 7.0 m asl\n",
      "Timezone NoneNone\n",
      "Timezone difference to GMT+0 0 s\n"
     ]
    }
   ],
   "source": [
    "for params in param_list:\n",
    "    city = params.pop(\"city\")\n",
    "    responses = openmeteo.weather_api(url, params=params)\n",
    "\n",
    "    # Process first location. Add a for-loop for multiple locations or weather models\n",
    "    response = responses[0]\n",
    "    print(f\"Coordinates {response.Latitude()}°N {response.Longitude()}°E\")\n",
    "    print(f\"Elevation {response.Elevation()} m asl\")\n",
    "    print(f\"Timezone {response.Timezone()}{response.TimezoneAbbreviation()}\")\n",
    "    print(f\"Timezone difference to GMT+0 {response.UtcOffsetSeconds()} s\")\n",
    "\n",
    "    # Process hourly data. The order of variables needs to be the same as requested.\n",
    "    hourly = response.Hourly()\n",
    "    hourly_pm10 = hourly.Variables(0).ValuesAsNumpy()\n",
    "    hourly_pm2_5 = hourly.Variables(1).ValuesAsNumpy()\n",
    "    hourly_carbon_monoxide = hourly.Variables(2).ValuesAsNumpy()\n",
    "    hourly_nitrogen_dioxide = hourly.Variables(3).ValuesAsNumpy()\n",
    "    hourly_sulphur_dioxide = hourly.Variables(4).ValuesAsNumpy()\n",
    "    hourly_ozone = hourly.Variables(5).ValuesAsNumpy()\n",
    "    hourly_uv_index_clear_sky = hourly.Variables(6).ValuesAsNumpy()\n",
    "    hourly_uv_index = hourly.Variables(7).ValuesAsNumpy()\n",
    "    hourly_dust = hourly.Variables(8).ValuesAsNumpy()\n",
    "    hourly_aerosol_optical_depth = hourly.Variables(9).ValuesAsNumpy()\n",
    "    hourly_us_aqi = hourly.Variables(10).ValuesAsNumpy()\n",
    "\n",
    "    hourly_data = {\"date\": pd.date_range(\n",
    "        start = pd.to_datetime(hourly.Time(), unit = \"s\", utc = True),\n",
    "        end = pd.to_datetime(hourly.TimeEnd(), unit = \"s\", utc = True),\n",
    "        freq = pd.Timedelta(seconds = hourly.Interval()),\n",
    "        inclusive = \"left\"\n",
    "    )}\n",
    "\n",
    "    hourly_data[\"city\"] = city\n",
    "\n",
    "    hourly_data[\"pm10\"] = hourly_pm10\n",
    "    hourly_data[\"pm2_5\"] = hourly_pm2_5\n",
    "    hourly_data[\"carbon_monoxide\"] = hourly_carbon_monoxide\n",
    "    hourly_data[\"nitrogen_dioxide\"] = hourly_nitrogen_dioxide\n",
    "    hourly_data[\"sulphur_dioxide\"] = hourly_sulphur_dioxide\n",
    "    hourly_data[\"ozone\"] = hourly_ozone\n",
    "    hourly_data[\"uv_index_clear_sky\"] = hourly_uv_index_clear_sky\n",
    "    hourly_data[\"uv_index\"] = hourly_uv_index\n",
    "    hourly_data[\"dust\"] = hourly_dust\n",
    "    hourly_data[\"aerosol_optical_depth\"] = hourly_aerosol_optical_depth\n",
    "    hourly_data[\"us_aqi\"] = hourly_us_aqi\n",
    "\n",
    "    hourly_dataframe = pd.DataFrame(data = hourly_data)\n",
    "    dataframes.append(hourly_dataframe)"
   ]
  },
  {
   "cell_type": "code",
   "execution_count": 13,
   "id": "77846b8b",
   "metadata": {},
   "outputs": [
    {
     "name": "stdout",
     "output_type": "stream",
     "text": [
      "<class 'pandas.core.frame.DataFrame'>\n",
      "Index: 3744 entries, 0 to 1247\n",
      "Data columns (total 13 columns):\n",
      " #   Column                 Non-Null Count  Dtype              \n",
      "---  ------                 --------------  -----              \n",
      " 0   date                   3744 non-null   datetime64[ns, UTC]\n",
      " 1   city                   3744 non-null   object             \n",
      " 2   pm10                   3744 non-null   float32            \n",
      " 3   pm2_5                  3744 non-null   float32            \n",
      " 4   carbon_monoxide        3744 non-null   float32            \n",
      " 5   nitrogen_dioxide       3744 non-null   float32            \n",
      " 6   sulphur_dioxide        3744 non-null   float32            \n",
      " 7   ozone                  3744 non-null   float32            \n",
      " 8   uv_index_clear_sky     3744 non-null   float32            \n",
      " 9   uv_index               3744 non-null   float32            \n",
      " 10  dust                   3744 non-null   float32            \n",
      " 11  aerosol_optical_depth  3744 non-null   float32            \n",
      " 12  us_aqi                 3744 non-null   float32            \n",
      "dtypes: datetime64[ns, UTC](1), float32(11), object(1)\n",
      "memory usage: 248.6+ KB\n",
      "None\n"
     ]
    }
   ],
   "source": [
    "final_df = pd.concat(dataframes, axis=0)\n",
    "print(final_df.info())"
   ]
  },
  {
   "cell_type": "code",
   "execution_count": 14,
   "id": "16157047",
   "metadata": {},
   "outputs": [],
   "source": [
    "final_df.to_csv(\"dhaka_ctg_khulna_aqi_data_recent.csv\", index=False)"
   ]
  },
  {
   "cell_type": "code",
   "execution_count": null,
   "id": "69460479",
   "metadata": {},
   "outputs": [],
   "source": []
  },
  {
   "cell_type": "code",
   "execution_count": null,
   "id": "743d6bf0",
   "metadata": {},
   "outputs": [],
   "source": []
  },
  {
   "cell_type": "code",
   "execution_count": null,
   "id": "82523364",
   "metadata": {},
   "outputs": [],
   "source": []
  },
  {
   "cell_type": "code",
   "execution_count": null,
   "id": "b506666e",
   "metadata": {},
   "outputs": [],
   "source": []
  },
  {
   "cell_type": "code",
   "execution_count": null,
   "id": "c0d2cf3e",
   "metadata": {},
   "outputs": [],
   "source": []
  }
 ],
 "metadata": {
  "kernelspec": {
   "display_name": "venv",
   "language": "python",
   "name": "python3"
  },
  "language_info": {
   "codemirror_mode": {
    "name": "ipython",
    "version": 3
   },
   "file_extension": ".py",
   "mimetype": "text/x-python",
   "name": "python",
   "nbconvert_exporter": "python",
   "pygments_lexer": "ipython3",
   "version": "3.13.3"
  }
 },
 "nbformat": 4,
 "nbformat_minor": 5
}
