{
 "cells": [
  {
   "cell_type": "code",
   "execution_count": null,
   "id": "10331a4d",
   "metadata": {},
   "outputs": [],
   "source": [
    "import os\n",
    "import pandas as pd\n",
    "import numpy as np\n",
    "import plotly.graph_objects as go\n",
    "from scipy.stats import gaussian_kde"
   ]
  },
  {
   "cell_type": "code",
   "execution_count": null,
   "id": "b84295be",
   "metadata": {},
   "outputs": [],
   "source": [
    "df = pd.read_csv(\"datasets/cleaned_aqi_data_local.csv\")\n",
    "print(df.columns)\n",
    "print(df.info())"
   ]
  },
  {
   "cell_type": "code",
   "execution_count": null,
   "id": "4baaad68",
   "metadata": {},
   "outputs": [],
   "source": [
    "desc = df.describe().T[[\"count\",\"min\",\"max\",\"mean\",\"50%\"]].rename(columns={\"50%\":\"median\"})\n",
    "desc[\"mode\"] = df.mode(numeric_only=True).iloc[0]\n",
    "print(desc)"
   ]
  },
  {
   "cell_type": "code",
   "execution_count": null,
   "id": "8df98101",
   "metadata": {},
   "outputs": [],
   "source": [
    "numeric_columns = df.select_dtypes(\"number\").columns"
   ]
  },
  {
   "cell_type": "markdown",
   "id": "aaf0e54e",
   "metadata": {},
   "source": [
    "### Univariate Distribution Analysis (Histograms for numeric columns)"
   ]
  },
  {
   "cell_type": "code",
   "execution_count": null,
   "id": "3bb46a9b",
   "metadata": {},
   "outputs": [],
   "source": [
    "output_dir = \"./screenshots/histograms_kde\"\n",
    "os.makedirs(output_dir, exist_ok=True)\n",
    "\n",
    "for col in numeric_columns:\n",
    "    data = df[col]\n",
    "    fig = go.Figure()\n",
    "    fig.add_trace(go.Histogram(\n",
    "        x=data,\n",
    "        name=col,\n",
    "        histnorm=\"probability density\",\n",
    "        opacity=0.75,\n",
    "    ))\n",
    "    kde = gaussian_kde(data)\n",
    "    x_grid = np.linspace(data.min(), data.max(), 500)\n",
    "    fig.add_trace(go.Scatter(\n",
    "        x=x_grid,\n",
    "        y=kde(x_grid),\n",
    "        mode=\"lines\",\n",
    "        name=f\"KDE\",\n",
    "        line=dict(width=2),\n",
    "    ))\n",
    "    fig.update_layout(\n",
    "        title_text=f\"Distribution of {col}\",\n",
    "        xaxis_title=col,\n",
    "        yaxis_title=\"Density\",\n",
    "        bargap=0.1,\n",
    "        template=\"plotly_white\",\n",
    "    )\n",
    "\n",
    "    fname = os.path.join(output_dir, f\"{col}_hist_kde.png\")\n",
    "    fig.write_image(fname, format=\"png\", engine=\"kaleido\")\n",
    "\n",
    "    fig.show()"
   ]
  },
  {
   "cell_type": "markdown",
   "id": "9f0ec970",
   "metadata": {},
   "source": [
    "### Spearman-correlation heatmap"
   ]
  },
  {
   "cell_type": "code",
   "execution_count": null,
   "id": "33f82f8a",
   "metadata": {},
   "outputs": [],
   "source": [
    "corr = df[numeric_columns].corr(method=\"spearman\")\n",
    "\n",
    "pastel_scale = [\n",
    "    [0.0, \"rgb(198,232,212)\"],   # light green\n",
    "    [0.5, \"rgb(255,255,204)\"],   # pale yellow\n",
    "    [1.0, \"rgb(245,105,108)\"]    # stronger coral‑red\n",
    "]\n",
    "\n",
    "fig = go.Figure(data=go.Heatmap(\n",
    "    z=corr.values,\n",
    "    x=corr.columns,\n",
    "    y=corr.index,\n",
    "    zmin=-1, zmax=1, zmid=0,\n",
    "    colorscale=pastel_scale,\n",
    "    text=corr.round(2).values,\n",
    "    texttemplate=\"%{text}\",\n",
    "    textfont=dict(size=12),\n",
    "    colorbar=dict(\n",
    "        title=\"ρ\",\n",
    "        lenmode=\"fraction\", len=0.8,\n",
    "    )\n",
    "))\n",
    "\n",
    "fig.update_layout(\n",
    "    title=\"Spearman Correlation Matrix\",\n",
    "    width=1000,\n",
    "    height=850,\n",
    "    template=\"plotly_white\",\n",
    "    xaxis_nticks=len(corr.columns),\n",
    "    yaxis_nticks=len(corr.index),\n",
    "    margin=dict(t=100, l=200, b=200)\n",
    ")\n",
    "\n",
    "fname = os.path.join(output_dir, f\"spearman_corr.png\")\n",
    "fig.show()"
   ]
  },
  {
   "cell_type": "markdown",
   "id": "92682795",
   "metadata": {},
   "source": [
    "### Pairwise scatter grid"
   ]
  },
  {
   "cell_type": "code",
   "execution_count": null,
   "id": "c33c6554",
   "metadata": {},
   "outputs": [],
   "source": [
    "from plotly.colors import qualitative"
   ]
  },
  {
   "cell_type": "code",
   "execution_count": null,
   "id": "1005d667",
   "metadata": {},
   "outputs": [],
   "source": [
    "df_sample = df.sample(5000, random_state=42).reset_index(drop=True)\n",
    "cities = df_sample[\"city\"].astype(\"category\")\n",
    "codes = cities.cat.codes\n",
    "palette = qualitative.Safe[:3]\n",
    "colors  = [palette[i % len(palette)] for i in codes]\n",
    "dimensions = []\n",
    "for col in numeric_columns:\n",
    "    dim_dict = {\"label\": col, \"values\": df_sample[col]}\n",
    "    dimensions.append(dim_dict)"
   ]
  },
  {
   "cell_type": "code",
   "execution_count": null,
   "id": "9e9fb629",
   "metadata": {},
   "outputs": [],
   "source": [
    "for i, city in enumerate(df_sample[\"city\"].unique()):\n",
    "    sub = df_sample[df_sample[\"city\"] == city]\n",
    "    fig = go.Figure(go.Splom(\n",
    "        dimensions=dimensions,\n",
    "        marker=dict(color=colors[i], size=4)\n",
    "    ))\n",
    "\n",
    "    fig.update_layout(\n",
    "        title=f\"Pairwise Relationship by {city.title()}\",\n",
    "        width=1200,\n",
    "        height=1200,\n",
    "        margin=dict(l=100, r=100, t=100, b=100),\n",
    "        template=\"plotly_white\",\n",
    "        plot_bgcolor=\"rgba(0, 0, 0, 0)\",\n",
    "        font=dict(size=8)\n",
    "    )\n",
    "\n",
    "    fig.show()"
   ]
  },
  {
   "cell_type": "markdown",
   "id": "c5ad986b",
   "metadata": {},
   "source": [
    "### Time series decomposition"
   ]
  },
  {
   "cell_type": "code",
   "execution_count": null,
   "id": "524c98bb",
   "metadata": {},
   "outputs": [],
   "source": [
    "from plotly.subplots import make_subplots\n",
    "from statsmodels.tsa.seasonal import STL"
   ]
  },
  {
   "cell_type": "code",
   "execution_count": null,
   "id": "daf47301",
   "metadata": {},
   "outputs": [],
   "source": [
    "df_copy = df.__deepcopy__()"
   ]
  },
  {
   "cell_type": "code",
   "execution_count": null,
   "id": "965a8959",
   "metadata": {},
   "outputs": [],
   "source": [
    "df_copy[\"date\"] = pd.to_datetime(df_copy[\"date\"])\n",
    "df_copy.set_index(\"date\", inplace=True)"
   ]
  },
  {
   "cell_type": "code",
   "execution_count": null,
   "id": "1a32e506",
   "metadata": {},
   "outputs": [],
   "source": [
    "col = \"pm2_5\""
   ]
  },
  {
   "cell_type": "code",
   "execution_count": null,
   "id": "826f4c4c",
   "metadata": {},
   "outputs": [],
   "source": [
    "for city in df_copy[\"city\"].unique():\n",
    "    df_city = df_copy[df_copy[\"city\"]==city]\n",
    "    series = df_city[col]\n",
    "    stl = STL(series, period=24, robust=True)\n",
    "    res = stl.fit()\n",
    "\n",
    "    fig = make_subplots(rows=3, cols=1, shared_xaxes=True, subplot_titles=[\"Trend\", \"Seasonal\", \"Residual\"])\n",
    "\n",
    "    fig.add_trace(go.Scatter(\n",
    "        x=res.trend.index, y=res.trend, mode=\"lines\", name=\"Trend\",\n",
    "    ), row=1, col=1)\n",
    "    fig.add_trace(go.Scatter(\n",
    "        x=res.seasonal.index, y=res.seasonal, mode=\"lines\", name=\"Seasonal\",\n",
    "    ), row=2, col=1)\n",
    "    fig.add_trace(go.Scatter(\n",
    "        x=res.resid.index, y=res.resid, mode=\"lines\", name=\"Residual\",\n",
    "    ), row=3, col=1)\n",
    "\n",
    "    fig.update_layout(\n",
    "        height=1000,\n",
    "        width=800,\n",
    "        title=f\"STL Decomposition of PM2.5 for {city.title()}\",\n",
    "        template=\"plotly_white\"\n",
    "    )\n",
    "\n",
    "    fig.show()"
   ]
  },
  {
   "cell_type": "markdown",
   "id": "fa1cd481",
   "metadata": {},
   "source": [
    "### PM2.5 autocorrelation check"
   ]
  },
  {
   "cell_type": "code",
   "execution_count": null,
   "id": "afe7680f",
   "metadata": {},
   "outputs": [],
   "source": [
    "from statsmodels.tsa.stattools import acf"
   ]
  },
  {
   "cell_type": "code",
   "execution_count": null,
   "id": "b5c03665",
   "metadata": {},
   "outputs": [],
   "source": [
    "max_lag = 30\n",
    "\n",
    "for city in df_copy[\"city\"].unique():\n",
    "    df_city = df_copy[df_copy[\"city\"]==city]\n",
    "    acf_vals = acf(df_city[col], nlags=max_lag, fft=True)\n",
    "    \n",
    "    fig = go.Figure(\n",
    "        data=go.Bar(\n",
    "            x=np.arange(len(acf_vals)),\n",
    "            y=acf_vals,\n",
    "            marker_color='steelblue'\n",
    "        )\n",
    "    )\n",
    "\n",
    "    fig.add_hline(y=0, line_dash=\"dash\", line_color=\"black\")\n",
    "    fig.update_layout(\n",
    "        title=f\"Autocorrelation of Daily PM2.5 for {city.title()}\",\n",
    "        xaxis_title=\"Lag (days)\",\n",
    "        yaxis_title=\"ACF\",\n",
    "        template=\"plotly_white\",\n",
    "        width=700,\n",
    "        height=400\n",
    "    )\n",
    "\n",
    "    fig.show()"
   ]
  },
  {
   "cell_type": "markdown",
   "id": "4a4b3851",
   "metadata": {},
   "source": [
    "### City-level aggregation"
   ]
  },
  {
   "cell_type": "code",
   "execution_count": null,
   "id": "52ad0db6",
   "metadata": {},
   "outputs": [],
   "source": [
    "important_cols = [\"pm2_5\", \"pm10\", \"us_aqi\"]"
   ]
  },
  {
   "cell_type": "code",
   "execution_count": null,
   "id": "70599fdb",
   "metadata": {},
   "outputs": [],
   "source": [
    "city_means = df.groupby(\"city\")[important_cols].mean().sort_values(by=\"pm2_5\")"
   ]
  },
  {
   "cell_type": "code",
   "execution_count": null,
   "id": "2a47824a",
   "metadata": {},
   "outputs": [],
   "source": [
    "fig = make_subplots(\n",
    "    rows=1,\n",
    "    cols=3,\n",
    "    shared_yaxes=False,\n",
    "    subplot_titles=[\"Average PM2.5\", \"Average PM10\", \"Average AQI (US)\"]\n",
    ")\n",
    "\n",
    "for i, col in enumerate(important_cols):\n",
    "    fig.add_trace(go.Bar(\n",
    "        x=(city_means.index).str.title(),\n",
    "        y=city_means[col],\n",
    "        name=col.upper().replace(\"_\", \" \"),\n",
    "        text=city_means[col].round(1),\n",
    "        textposition=\"outside\",\n",
    "        textfont=dict(size=8)\n",
    "    ), row=1, col=i+1)\n",
    "\n",
    "fig.update_layout(\n",
    "    title=\"Average Pollutant Levels by City (PM2.5, PM10)\",\n",
    "    template=\"plotly_white\",\n",
    "    width=1000,\n",
    "    height=400,\n",
    "    showlegend=False,\n",
    "    margin=dict(t=80, l=40, r=40, b=40)\n",
    ")\n",
    "\n",
    "fig.update_xaxes(tickangle=-45)\n",
    "\n",
    "fig.show()"
   ]
  },
  {
   "cell_type": "markdown",
   "id": "925a76d4",
   "metadata": {},
   "source": [
    "### Cluster and silhouette analysis"
   ]
  },
  {
   "cell_type": "code",
   "execution_count": null,
   "id": "721d1cab",
   "metadata": {},
   "outputs": [],
   "source": [
    "from sklearn.cluster import KMeans\n",
    "from sklearn.metrics import silhouette_score\n",
    "from sklearn.preprocessing import StandardScaler"
   ]
  },
  {
   "cell_type": "code",
   "execution_count": null,
   "id": "32616f8d",
   "metadata": {},
   "outputs": [],
   "source": [
    "X = StandardScaler().fit_transform(df[[col for col in numeric_columns if col != \"us_aqi\"]].values)\n",
    "y = df[\"us_aqi\"].values"
   ]
  },
  {
   "cell_type": "code",
   "execution_count": null,
   "id": "1365d75f",
   "metadata": {},
   "outputs": [],
   "source": [
    "scores = []\n",
    "for k in range(2, 11):\n",
    "    labels = KMeans(n_clusters=k, random_state=42).fit_predict(X)\n",
    "    scores.append(silhouette_score(X, labels))"
   ]
  },
  {
   "cell_type": "code",
   "execution_count": null,
   "id": "cc5d0c86",
   "metadata": {},
   "outputs": [],
   "source": [
    "ks = range(2, 11)"
   ]
  },
  {
   "cell_type": "code",
   "execution_count": null,
   "id": "cc54aed5",
   "metadata": {},
   "outputs": [],
   "source": [
    "fig_curve = go.Figure(go.Scatter(\n",
    "    x=list(ks),\n",
    "    y=scores,\n",
    "    mode=\"lines+markers\",\n",
    "    marker=dict(size=8),\n",
    "    line=dict(width=2)\n",
    "))\n",
    "fig_curve.update_layout(\n",
    "    title=\"Silhouette Analysis\",\n",
    "    xaxis_title=\"k\",\n",
    "    yaxis_title=\"Mean Silhouette Score\",\n",
    "    template=\"plotly_white\",\n",
    "    width=600,\n",
    "    height=400\n",
    ")\n",
    "fig_curve.show()"
   ]
  },
  {
   "cell_type": "code",
   "execution_count": null,
   "id": "b0d74075",
   "metadata": {},
   "outputs": [],
   "source": [
    "k_opt = ks[int(np.argmax(scores))]\n",
    "kmeans = KMeans(n_clusters=k_opt, random_state=42).fit(X)\n",
    "cluster_labels = kmeans.labels_\n",
    "print(f\"Optimal k = {k_opt}, mean silhouette = {max(scores):.3f}\")"
   ]
  },
  {
   "cell_type": "code",
   "execution_count": null,
   "id": "94a111d6",
   "metadata": {},
   "outputs": [],
   "source": [
    "from sklearn.decomposition import PCA"
   ]
  },
  {
   "cell_type": "code",
   "execution_count": null,
   "id": "e85e3d13",
   "metadata": {},
   "outputs": [],
   "source": [
    "pca   = PCA(n_components=2, random_state=42)\n",
    "X_2d  = pca.fit_transform(X)"
   ]
  },
  {
   "cell_type": "code",
   "execution_count": null,
   "id": "4dae4d86",
   "metadata": {},
   "outputs": [],
   "source": [
    "fig_2d = go.Figure(go.Scatter(\n",
    "    x=X_2d[:, 0],\n",
    "    y=X_2d[:, 1],\n",
    "    mode='markers',\n",
    "    marker=dict(\n",
    "        color=cluster_labels,\n",
    "        colorscale='Viridis',\n",
    "        size=6,\n",
    "        line=dict(width=0.4, color='black')\n",
    "    ),\n",
    "    text=[f\"AQI: {v:.1f}\" for v in y],\n",
    "    hovertemplate=\"PC1=%{x:.2f}<br>PC2=%{y:.2f}<br>%{text}<extra>Cluster %{marker.color}</extra>\"\n",
    "))\n",
    "\n",
    "fig_2d.update_layout(\n",
    "    title=f\"K‑means Clusters in PCA Space (k={k_opt})\",\n",
    "    xaxis_title=\"Principal Component 1\",\n",
    "    yaxis_title=\"Principal Component 2\",\n",
    "    template=\"plotly_white\",\n",
    "    width=700,\n",
    "    height=600\n",
    ")\n",
    "\n",
    "fig_2d.show()"
   ]
  },
  {
   "cell_type": "code",
   "execution_count": null,
   "id": "4aa3027e",
   "metadata": {},
   "outputs": [],
   "source": []
  },
  {
   "cell_type": "code",
   "execution_count": null,
   "id": "5221e3eb",
   "metadata": {},
   "outputs": [],
   "source": []
  },
  {
   "cell_type": "code",
   "execution_count": null,
   "id": "c62260ae",
   "metadata": {},
   "outputs": [],
   "source": []
  }
 ],
 "metadata": {
  "kernelspec": {
   "display_name": "venv",
   "language": "python",
   "name": "python3"
  },
  "language_info": {
   "codemirror_mode": {
    "name": "ipython",
    "version": 3
   },
   "file_extension": ".py",
   "mimetype": "text/x-python",
   "name": "python",
   "nbconvert_exporter": "python",
   "pygments_lexer": "ipython3",
   "version": "3.13.3"
  }
 },
 "nbformat": 4,
 "nbformat_minor": 5
}
