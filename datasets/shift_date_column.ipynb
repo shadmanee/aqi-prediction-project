{
 "cells": [
  {
   "cell_type": "code",
   "execution_count": 2,
   "id": "27e134fa",
   "metadata": {},
   "outputs": [],
   "source": [
    "import pandas as pd"
   ]
  },
  {
   "cell_type": "code",
   "execution_count": 3,
   "id": "4bc0c27b",
   "metadata": {},
   "outputs": [],
   "source": [
    "df = pd.read_csv(\"../main datasets/dhaka_ctg_khulna_aqi_data_25_aug.csv\")"
   ]
  },
  {
   "cell_type": "code",
   "execution_count": 4,
   "id": "975437cb",
   "metadata": {},
   "outputs": [],
   "source": [
    "df['date'] = pd.to_datetime(df['date']) + pd.Timedelta(hours=6)"
   ]
  },
  {
   "cell_type": "code",
   "execution_count": 5,
   "id": "a7e11437",
   "metadata": {},
   "outputs": [
    {
     "data": {
      "text/plain": [
       "0       2023-06-01 06:00:00+00:00\n",
       "1       2023-06-01 07:00:00+00:00\n",
       "2       2023-06-01 08:00:00+00:00\n",
       "3       2023-06-01 09:00:00+00:00\n",
       "4       2023-06-01 10:00:00+00:00\n",
       "                   ...           \n",
       "58819   2025-08-26 01:00:00+00:00\n",
       "58820   2025-08-26 02:00:00+00:00\n",
       "58821   2025-08-26 03:00:00+00:00\n",
       "58822   2025-08-26 04:00:00+00:00\n",
       "58823   2025-08-26 05:00:00+00:00\n",
       "Name: date, Length: 58824, dtype: datetime64[ns, UTC]"
      ]
     },
     "execution_count": 5,
     "metadata": {},
     "output_type": "execute_result"
    }
   ],
   "source": [
    "df[\"date\"]"
   ]
  },
  {
   "cell_type": "code",
   "execution_count": 6,
   "id": "e04d24be",
   "metadata": {},
   "outputs": [],
   "source": [
    "df.to_csv(\"../main datasets/dhaka_ctg_khulna_aqi_data_25_aug.csv\", index=False)"
   ]
  }
 ],
 "metadata": {
  "kernelspec": {
   "display_name": "venv",
   "language": "python",
   "name": "python3"
  },
  "language_info": {
   "codemirror_mode": {
    "name": "ipython",
    "version": 3
   },
   "file_extension": ".py",
   "mimetype": "text/x-python",
   "name": "python",
   "nbconvert_exporter": "python",
   "pygments_lexer": "ipython3",
   "version": "3.13.3"
  }
 },
 "nbformat": 4,
 "nbformat_minor": 5
}
